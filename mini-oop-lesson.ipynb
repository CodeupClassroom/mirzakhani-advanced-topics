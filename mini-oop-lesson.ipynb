{
 "cells": [
  {
   "cell_type": "markdown",
   "id": "c9b98373",
   "metadata": {},
   "source": [
    "# Mini Object Oriented Programming Lesson"
   ]
  },
  {
   "cell_type": "markdown",
   "id": "e8a4d676",
   "metadata": {},
   "source": [
    "## How do we make Objects in Python?\n",
    "\n",
    "Mirzakhani, let's handle this with `class`.\n",
    "![](https://media.giphy.com/media/147p93s2vFKsQU/giphy.gif)"
   ]
  },
  {
   "cell_type": "markdown",
   "id": "c47068d9",
   "metadata": {},
   "source": [
    "## Basic Usage"
   ]
  },
  {
   "cell_type": "code",
   "execution_count": 6,
   "id": "38800a4b",
   "metadata": {},
   "outputs": [
    {
     "name": "stdout",
     "output_type": "stream",
     "text": [
      "5\n",
      "5\n"
     ]
    }
   ],
   "source": [
    "# Define a class\n",
    "class MyClass:\n",
    "    # Define a class attribute\n",
    "    x = 5\n",
    "    \n",
    "    # Define a method\n",
    "    def print_x(self):\n",
    "        print(self.x)\n",
    "\n",
    "# Create an object of MyClass\n",
    "obj = MyClass()\n",
    "\n",
    "# Access the class attribute\n",
    "print(obj.x) # prints 5\n",
    "\n",
    "# Call the method\n",
    "obj.print_x() # prints 5"
   ]
  },
  {
   "cell_type": "markdown",
   "id": "ef777afb",
   "metadata": {},
   "source": [
    "## Why do I need Objects?\n",
    "\n",
    "Classes are necessary in Python because they provide a way to organize and structure code in an object-oriented manner. They allow developers to create complex software systems by breaking them down into smaller, more manageable components.\n",
    "\n",
    "Here are a few key reasons why classes are important in Python:\n",
    "\n",
    "* **Encapsulation**: Classes provide a way to encapsulate data and behavior together, which means that the internal state of an object can be protected from external access and modification. This helps to make the code more robust and less prone to bugs.\n",
    "\n",
    "\n",
    "* **Reusability**: Classes can be used to create multiple objects, and the same class can be used to create objects for different purposes. This makes code more reusable, and developers can use pre-existing classes to build new systems.\n",
    "\n",
    "\n",
    "* **Inheritance**: Classes in Python support inheritance, which allows developers to create new classes that inherit properties and behavior from existing classes. This reduces code duplication and makes it easier to extend and maintain existing code.\n",
    "\n",
    "\n",
    "* **Polymorphism**: Classes in Python support polymorphism, which allows objects of different classes to be treated as objects of a common base class. This makes it easy to write code that can work with objects of different classes, which can greatly simplify the design of large software systems.\n",
    "\n",
    "\n",
    "* **Abstraction**: Classes allow to abstract the implementation details of a certain functionality and expose only the necessary information to the external code, making the code more readable and maintainable.\n",
    "\n",
    "### Let's see how this works by writing code for a bank account\n",
    "\n",
    "#### Without `class`"
   ]
  },
  {
   "cell_type": "code",
   "execution_count": 28,
   "id": "482fe33a",
   "metadata": {},
   "outputs": [
    {
     "name": "stdout",
     "output_type": "stream",
     "text": [
      "Your balance is 1\n",
      "Your balance is 1001\n"
     ]
    }
   ],
   "source": [
    "ryans_bank_account_name = \"Ryan's Bank Account\"\n",
    "ryans_bank_account_balance = 1\n",
    "\n",
    "print('Your balance is', ryans_bank_account_balance)\n",
    "\n",
    "ryans_bank_account_balance = ryans_bank_account_balance + 1000\n",
    "\n",
    "print('Your balance is', ryans_bank_account_balance)"
   ]
  },
  {
   "cell_type": "markdown",
   "id": "b33b219f",
   "metadata": {},
   "source": [
    "#### With `class`"
   ]
  },
  {
   "cell_type": "code",
   "execution_count": 12,
   "id": "ce0093d7",
   "metadata": {},
   "outputs": [],
   "source": [
    "class BankAccount:\n",
    "    def __init__(self, name, balance=0.0):\n",
    "        self.name = name\n",
    "        self.balance = balance\n",
    "\n",
    "    def deposit(self, amount):\n",
    "        self.balance += amount\n",
    "        print(f'Deposited {amount}, new balance is {self.balance}')\n",
    "\n",
    "    def withdraw(self, amount):\n",
    "        if self.balance >= amount:\n",
    "            self.balance -= amount\n",
    "            print(f'Withdrew {amount}, new balance is {self.balance}')\n",
    "        else:\n",
    "            print(f'Insufficient balance, your current balance is {self.balance}')\n",
    "\n",
    "    def display_balance(self):\n",
    "        print(f'Balance is {self.balance}')"
   ]
  },
  {
   "cell_type": "code",
   "execution_count": 21,
   "id": "1f0796bf",
   "metadata": {},
   "outputs": [
    {
     "data": {
      "text/plain": [
       "<__main__.BankAccount at 0x106af5190>"
      ]
     },
     "execution_count": 21,
     "metadata": {},
     "output_type": "execute_result"
    }
   ],
   "source": [
    "account = BankAccount(\"Ryan's Bank Account\", 1)\n",
    "account"
   ]
  },
  {
   "cell_type": "code",
   "execution_count": 22,
   "id": "99a0ac92",
   "metadata": {},
   "outputs": [
    {
     "name": "stdout",
     "output_type": "stream",
     "text": [
      "Balance is 1\n"
     ]
    }
   ],
   "source": [
    "account.display_balance()"
   ]
  },
  {
   "cell_type": "code",
   "execution_count": 23,
   "id": "9f748dfe",
   "metadata": {},
   "outputs": [
    {
     "name": "stdout",
     "output_type": "stream",
     "text": [
      "Deposited 1000, new balance is 1001\n"
     ]
    }
   ],
   "source": [
    "account.deposit(1000)"
   ]
  },
  {
   "cell_type": "code",
   "execution_count": 24,
   "id": "1f8f48bf",
   "metadata": {},
   "outputs": [
    {
     "name": "stdout",
     "output_type": "stream",
     "text": [
      "Withdrew 500, new balance is 501\n"
     ]
    }
   ],
   "source": [
    "account.withdraw(500)"
   ]
  },
  {
   "cell_type": "code",
   "execution_count": 26,
   "id": "9918a050",
   "metadata": {},
   "outputs": [
    {
     "name": "stdout",
     "output_type": "stream",
     "text": [
      "Insufficient balance, your current balance is 501\n"
     ]
    }
   ],
   "source": [
    "account.withdraw(100000000)"
   ]
  },
  {
   "cell_type": "markdown",
   "id": "ae22b43e",
   "metadata": {},
   "source": [
    "## Bonus Code\n",
    "\n",
    "### D&D OOP"
   ]
  },
  {
   "cell_type": "code",
   "execution_count": 4,
   "id": "4ead7b66",
   "metadata": {},
   "outputs": [],
   "source": [
    "import random\n",
    "\n",
    "class Character:\n",
    "    def __init__(self, name, race, char_class, hp, strength, dexterity, intelligence, wisdom, charisma):\n",
    "        self.name = name\n",
    "        self.race = race\n",
    "        self.char_class = char_class\n",
    "        self.hp = hp\n",
    "        self.strength = strength\n",
    "        self.dexterity = dexterity\n",
    "        self.intelligence = intelligence\n",
    "        self.wisdom = wisdom\n",
    "        self.charisma = charisma\n",
    "        \n",
    "    def attack(self, target):\n",
    "        roll = random.randint(1,20)\n",
    "        if roll >= 10:\n",
    "            target.hp -= self.strength\n",
    "            print(f'{self.name} hit {target.name} for {self.strength} damage!')\n",
    "        else:\n",
    "            print(f'{self.name} missed!')\n",
    "        \n",
    "    def cast_spell(self, spell_name, target):\n",
    "        if spell_name in self.spells:\n",
    "            if self.intelligence >= self.spells[spell_name]['intelligence_requirement']:\n",
    "                target.hp -= self.spells[spell_name]['damage']\n",
    "                print(f\"{self.name} casts {spell_name} and deals {self.spells[spell_name]['damage']} damage to {target.name}\")\n",
    "            else:\n",
    "                print(f'{self.name} does not have the intelligence required to cast {spell_name}')\n",
    "        else:\n",
    "            print(f'{self.name} does not know the spell {spell_name}')\n",
    "\n",
    "class Wizard(Character):\n",
    "    def __init__(self, name, hp, strength, dexterity, intelligence, wisdom, charisma):\n",
    "        super().__init__(name, 'Human', 'Wizard', hp, strength, dexterity, intelligence, wisdom, charisma)\n",
    "        self.spells = {\n",
    "            'Fireball': {'damage': 20, 'intelligence_requirement': 15},\n",
    "            'Lightning Bolt': {'damage': 10, 'intelligence_requirement': 10},\n",
    "            'Magic Missile': {'damage': 5, 'intelligence_requirement': 5}\n",
    "        }\n",
    "\n",
    "class Warrior(Character):\n",
    "    def __init__(self, name, hp, strength, dexterity, intelligence, wisdom, charisma):\n",
    "        super().__init__(name, 'Human', 'Warrior', hp, strength, dexterity, intelligence, wisdom, charisma)\n",
    "        \n",
    "class Cleric(Character):\n",
    "    def __init__(self, name, hp, strength, dexterity, intelligence, wisdom, charisma):\n",
    "        super().__init__(name, 'Human', 'Cleric', hp, strength, dexterity, intelligence, wisdom, charisma)\n",
    "        self.spells = {\n",
    "            'Heal': {'damage': -20, 'intelligence_requirement': 10},\n",
    "            'Bless': {'damage': 5, 'intelligence_requirement': 5}\n",
    "        }\n",
    "\n",
    "wizard1 = Wizard(\"Gandalf\", 50, 5, 5, 20, 10, 15)\n",
    "warrior1 = Warrior(\"Conan\", 80, 20, 15, 10, 10, 5)\n",
    "cleric1 = Cleric(\"Aelithar\", 60, 15, 10, 10, 15, 10)"
   ]
  },
  {
   "cell_type": "code",
   "execution_count": 5,
   "id": "116d59f2",
   "metadata": {},
   "outputs": [
    {
     "name": "stdout",
     "output_type": "stream",
     "text": [
      "Gandalf casts Fireball and deals 20 damage to Conan\n",
      "Conan hit Gandalf for 20 damage!\n",
      "Aelithar casts Heal and deals -20 damage to Conan\n"
     ]
    }
   ],
   "source": [
    "wizard1.cast_spell('Fireball', warrior1) \n",
    "# Gandalf casts Fireball and deals 20 damage to Conan\n",
    "warrior1.attack(wizard1)\n",
    "# Conan hit Gandalf for 20 damage!\n",
    "cleric1.cast_spell('Heal', warrior1)\n",
    "# Aelithar casts Heal and deals -20 damage to Conan"
   ]
  },
  {
   "cell_type": "code",
   "execution_count": null,
   "id": "b58649cf",
   "metadata": {},
   "outputs": [],
   "source": []
  }
 ],
 "metadata": {
  "kernelspec": {
   "display_name": "Python 3 (ipykernel)",
   "language": "python",
   "name": "python3"
  },
  "language_info": {
   "codemirror_mode": {
    "name": "ipython",
    "version": 3
   },
   "file_extension": ".py",
   "mimetype": "text/x-python",
   "name": "python",
   "nbconvert_exporter": "python",
   "pygments_lexer": "ipython3",
   "version": "3.9.12"
  }
 },
 "nbformat": 4,
 "nbformat_minor": 5
}
